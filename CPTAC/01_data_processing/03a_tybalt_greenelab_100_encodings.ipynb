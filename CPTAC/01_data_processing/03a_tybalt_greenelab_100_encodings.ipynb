{
 "cells": [
  {
   "cell_type": "code",
   "execution_count": 1,
   "id": "f6428c3a",
   "metadata": {},
   "outputs": [],
   "source": [
    "import os\n",
    "import numpy as np\n",
    "import pandas as pd\n",
    "import tensorflow as tf\n",
    "from scipy import stats\n",
    "from tensorflow import keras\n",
    "from tensorflow.keras import backend as K\n",
    "from tensorflow.keras import layers, optimizers, metrics\n",
    "from sklearn.preprocessing import MinMaxScaler\n",
    "from tensorflow.python.framework.ops import disable_eager_execution\n",
    "disable_eager_execution()\n",
    "\n",
    "from tensorflow.keras.models import Model\n",
    "from tensorflow.keras.utils import plot_model\n",
    "from tensorflow.keras.callbacks import Callback\n",
    "from tensorflow.keras.layers import Input, Layer, Dense, BatchNormalization, Activation, Lambda\n",
    "\n",
    "import warnings\n",
    "warnings.filterwarnings(\"ignore\")\n",
    "from matplotlib import pyplot as plt\n",
    "%matplotlib inline \n",
    "import seaborn as sns "
   ]
  },
  {
   "cell_type": "code",
   "execution_count": 2,
   "id": "510eee77",
   "metadata": {},
   "outputs": [
    {
     "name": "stdout",
     "output_type": "stream",
     "text": [
      "2.10.0\n"
     ]
    },
    {
     "data": {
      "text/plain": [
       "'2.10.0'"
      ]
     },
     "execution_count": 2,
     "metadata": {},
     "output_type": "execute_result"
    }
   ],
   "source": [
    "print(keras.__version__)\n",
    "tf.__version__"
   ]
  },
  {
   "cell_type": "code",
   "execution_count": 3,
   "id": "23c30c73",
   "metadata": {},
   "outputs": [],
   "source": [
    "get_local_data_path = lambda folders, fname: os.path.normpath('../local_data/'+ '/'.join(folders) + '/' + fname)\n",
    "\n",
    "file_cptac_vae_input = get_local_data_path(['processed_data'], 'CPTAC_TCGA_transcriptomics_VAE_input.parquet')"
   ]
  },
  {
   "cell_type": "markdown",
   "id": "ae7dfdf4",
   "metadata": {},
   "source": [
    "# Transcriptomics (TCGA-Xena processed) "
   ]
  },
  {
   "cell_type": "code",
   "execution_count": 4,
   "id": "c9dd119d",
   "metadata": {},
   "outputs": [
    {
     "name": "stdout",
     "output_type": "stream",
     "text": [
      "(12915, 12581)\n"
     ]
    },
    {
     "data": {
      "text/html": [
       "<div>\n",
       "<style scoped>\n",
       "    .dataframe tbody tr th:only-of-type {\n",
       "        vertical-align: middle;\n",
       "    }\n",
       "\n",
       "    .dataframe tbody tr th {\n",
       "        vertical-align: top;\n",
       "    }\n",
       "\n",
       "    .dataframe thead th {\n",
       "        text-align: right;\n",
       "    }\n",
       "</style>\n",
       "<table border=\"1\" class=\"dataframe\">\n",
       "  <thead>\n",
       "    <tr style=\"text-align: right;\">\n",
       "      <th></th>\n",
       "      <th>ABCC9</th>\n",
       "      <th>AGR3</th>\n",
       "      <th>TFF1</th>\n",
       "      <th>ABCC11</th>\n",
       "      <th>ABCC8</th>\n",
       "      <th>LMX1B</th>\n",
       "      <th>ABCA12</th>\n",
       "      <th>TMPRSS4</th>\n",
       "      <th>CEACAM5</th>\n",
       "      <th>PRAME</th>\n",
       "      <th>...</th>\n",
       "      <th>UBE2D3</th>\n",
       "      <th>CNOT2</th>\n",
       "      <th>PPWD1</th>\n",
       "      <th>DDX24</th>\n",
       "      <th>IWS1</th>\n",
       "      <th>PDCL</th>\n",
       "      <th>CWC22</th>\n",
       "      <th>ZNF143</th>\n",
       "      <th>ZNF317</th>\n",
       "      <th>APOH</th>\n",
       "    </tr>\n",
       "  </thead>\n",
       "  <tbody>\n",
       "    <tr>\n",
       "      <th>X05BR044</th>\n",
       "      <td>-0.1642</td>\n",
       "      <td>-6.9695</td>\n",
       "      <td>7.315253</td>\n",
       "      <td>5.6987</td>\n",
       "      <td>-0.1320</td>\n",
       "      <td>9.006253</td>\n",
       "      <td>4.4880</td>\n",
       "      <td>3.713072</td>\n",
       "      <td>7.641153</td>\n",
       "      <td>4.239446</td>\n",
       "      <td>...</td>\n",
       "      <td>12.275687</td>\n",
       "      <td>10.487446</td>\n",
       "      <td>8.585484</td>\n",
       "      <td>11.455538</td>\n",
       "      <td>10.169584</td>\n",
       "      <td>8.862867</td>\n",
       "      <td>9.241903</td>\n",
       "      <td>8.464633</td>\n",
       "      <td>9.525920</td>\n",
       "      <td>0.0</td>\n",
       "    </tr>\n",
       "    <tr>\n",
       "      <th>X06BR006</th>\n",
       "      <td>3.5734</td>\n",
       "      <td>-2.2886</td>\n",
       "      <td>5.863440</td>\n",
       "      <td>3.0420</td>\n",
       "      <td>-0.3577</td>\n",
       "      <td>7.406507</td>\n",
       "      <td>3.2958</td>\n",
       "      <td>5.309702</td>\n",
       "      <td>7.748331</td>\n",
       "      <td>3.532511</td>\n",
       "      <td>...</td>\n",
       "      <td>12.284750</td>\n",
       "      <td>10.495988</td>\n",
       "      <td>8.608105</td>\n",
       "      <td>11.460543</td>\n",
       "      <td>10.111001</td>\n",
       "      <td>8.915071</td>\n",
       "      <td>9.168362</td>\n",
       "      <td>8.481458</td>\n",
       "      <td>9.539754</td>\n",
       "      <td>0.0</td>\n",
       "    </tr>\n",
       "  </tbody>\n",
       "</table>\n",
       "<p>2 rows × 12581 columns</p>\n",
       "</div>"
      ],
      "text/plain": [
       "           ABCC9    AGR3      TFF1  ABCC11   ABCC8     LMX1B  ABCA12  \\\n",
       "X05BR044 -0.1642 -6.9695  7.315253  5.6987 -0.1320  9.006253  4.4880   \n",
       "X06BR006  3.5734 -2.2886  5.863440  3.0420 -0.3577  7.406507  3.2958   \n",
       "\n",
       "           TMPRSS4   CEACAM5     PRAME  ...     UBE2D3      CNOT2     PPWD1  \\\n",
       "X05BR044  3.713072  7.641153  4.239446  ...  12.275687  10.487446  8.585484   \n",
       "X06BR006  5.309702  7.748331  3.532511  ...  12.284750  10.495988  8.608105   \n",
       "\n",
       "              DDX24       IWS1      PDCL     CWC22    ZNF143    ZNF317  APOH  \n",
       "X05BR044  11.455538  10.169584  8.862867  9.241903  8.464633  9.525920   0.0  \n",
       "X06BR006  11.460543  10.111001  8.915071  9.168362  8.481458  9.539754   0.0  \n",
       "\n",
       "[2 rows x 12581 columns]"
      ]
     },
     "execution_count": 4,
     "metadata": {},
     "output_type": "execute_result"
    }
   ],
   "source": [
    "combined_transcriptomics = pd.read_parquet(file_cptac_vae_input).drop(columns=['Study', 'Project'])\n",
    "print(combined_transcriptomics.shape)\n",
    "combined_transcriptomics[:2]"
   ]
  },
  {
   "cell_type": "code",
   "execution_count": 5,
   "id": "fe17479f",
   "metadata": {},
   "outputs": [
    {
     "data": {
      "text/html": [
       "<div>\n",
       "<style scoped>\n",
       "    .dataframe tbody tr th:only-of-type {\n",
       "        vertical-align: middle;\n",
       "    }\n",
       "\n",
       "    .dataframe tbody tr th {\n",
       "        vertical-align: top;\n",
       "    }\n",
       "\n",
       "    .dataframe thead th {\n",
       "        text-align: right;\n",
       "    }\n",
       "</style>\n",
       "<table border=\"1\" class=\"dataframe\">\n",
       "  <thead>\n",
       "    <tr style=\"text-align: right;\">\n",
       "      <th></th>\n",
       "      <th>CEACAM6</th>\n",
       "      <th>TMPRSS4</th>\n",
       "      <th>CEACAM5</th>\n",
       "      <th>SERPINB5</th>\n",
       "      <th>SLC34A2</th>\n",
       "      <th>AGR2</th>\n",
       "      <th>PIGR</th>\n",
       "      <th>FOXA1</th>\n",
       "      <th>CXCL17</th>\n",
       "      <th>ALDH3B2</th>\n",
       "      <th>...</th>\n",
       "      <th>LDHB</th>\n",
       "      <th>ELL2</th>\n",
       "      <th>SLC1A4</th>\n",
       "      <th>RAB30</th>\n",
       "      <th>CTAGE6</th>\n",
       "      <th>ENO3</th>\n",
       "      <th>CNKSR1</th>\n",
       "      <th>HERC5</th>\n",
       "      <th>C5orf34</th>\n",
       "      <th>TSGA10</th>\n",
       "    </tr>\n",
       "  </thead>\n",
       "  <tbody>\n",
       "    <tr>\n",
       "      <th>X05BR044</th>\n",
       "      <td>9.937472</td>\n",
       "      <td>3.713072</td>\n",
       "      <td>7.641153</td>\n",
       "      <td>7.282764</td>\n",
       "      <td>6.852082</td>\n",
       "      <td>0.4655</td>\n",
       "      <td>7.178882</td>\n",
       "      <td>12.949037</td>\n",
       "      <td>7.031997</td>\n",
       "      <td>5.5568</td>\n",
       "      <td>...</td>\n",
       "      <td>10.506106</td>\n",
       "      <td>10.041295</td>\n",
       "      <td>11.065826</td>\n",
       "      <td>6.242672</td>\n",
       "      <td>2.767518</td>\n",
       "      <td>4.983087</td>\n",
       "      <td>9.127218</td>\n",
       "      <td>5.523864</td>\n",
       "      <td>4.951109</td>\n",
       "      <td>5.306114</td>\n",
       "    </tr>\n",
       "    <tr>\n",
       "      <th>X06BR006</th>\n",
       "      <td>9.800047</td>\n",
       "      <td>5.309702</td>\n",
       "      <td>7.748331</td>\n",
       "      <td>6.626856</td>\n",
       "      <td>7.844841</td>\n",
       "      <td>-0.7228</td>\n",
       "      <td>8.373406</td>\n",
       "      <td>10.811038</td>\n",
       "      <td>7.350328</td>\n",
       "      <td>1.9811</td>\n",
       "      <td>...</td>\n",
       "      <td>11.874182</td>\n",
       "      <td>9.900537</td>\n",
       "      <td>10.134999</td>\n",
       "      <td>7.223504</td>\n",
       "      <td>2.353391</td>\n",
       "      <td>5.447281</td>\n",
       "      <td>8.347204</td>\n",
       "      <td>7.525570</td>\n",
       "      <td>5.377367</td>\n",
       "      <td>6.409235</td>\n",
       "    </tr>\n",
       "  </tbody>\n",
       "</table>\n",
       "<p>2 rows × 5000 columns</p>\n",
       "</div>"
      ],
      "text/plain": [
       "           CEACAM6   TMPRSS4   CEACAM5  SERPINB5   SLC34A2    AGR2      PIGR  \\\n",
       "X05BR044  9.937472  3.713072  7.641153  7.282764  6.852082  0.4655  7.178882   \n",
       "X06BR006  9.800047  5.309702  7.748331  6.626856  7.844841 -0.7228  8.373406   \n",
       "\n",
       "              FOXA1    CXCL17  ALDH3B2  ...       LDHB       ELL2     SLC1A4  \\\n",
       "X05BR044  12.949037  7.031997   5.5568  ...  10.506106  10.041295  11.065826   \n",
       "X06BR006  10.811038  7.350328   1.9811  ...  11.874182   9.900537  10.134999   \n",
       "\n",
       "             RAB30    CTAGE6      ENO3    CNKSR1     HERC5   C5orf34    TSGA10  \n",
       "X05BR044  6.242672  2.767518  4.983087  9.127218  5.523864  4.951109  5.306114  \n",
       "X06BR006  7.223504  2.353391  5.447281  8.347204  7.525570  5.377367  6.409235  \n",
       "\n",
       "[2 rows x 5000 columns]"
      ]
     },
     "execution_count": 5,
     "metadata": {},
     "output_type": "execute_result"
    }
   ],
   "source": [
    "# # Determine most variably expressed genes and subset\n",
    "transcriptomics_mad = pd.DataFrame(stats.median_abs_deviation(combined_transcriptomics, axis=0), \n",
    "                                   index = combined_transcriptomics.columns, \n",
    "                                   columns= ['MAD']).dropna().sort_values(by='MAD', ascending=False)\n",
    "top_mad_genes = transcriptomics_mad.head(5000).index\n",
    "vae_input = combined_transcriptomics.reindex(top_mad_genes, axis=1)\n",
    "vae_input[:2]"
   ]
  },
  {
   "cell_type": "code",
   "execution_count": 6,
   "id": "99fd5054",
   "metadata": {},
   "outputs": [
    {
     "data": {
      "text/html": [
       "<div>\n",
       "<style scoped>\n",
       "    .dataframe tbody tr th:only-of-type {\n",
       "        vertical-align: middle;\n",
       "    }\n",
       "\n",
       "    .dataframe tbody tr th {\n",
       "        vertical-align: top;\n",
       "    }\n",
       "\n",
       "    .dataframe thead th {\n",
       "        text-align: right;\n",
       "    }\n",
       "</style>\n",
       "<table border=\"1\" class=\"dataframe\">\n",
       "  <thead>\n",
       "    <tr style=\"text-align: right;\">\n",
       "      <th></th>\n",
       "      <th>CEACAM6</th>\n",
       "      <th>TMPRSS4</th>\n",
       "      <th>CEACAM5</th>\n",
       "      <th>SERPINB5</th>\n",
       "      <th>SLC34A2</th>\n",
       "      <th>AGR2</th>\n",
       "      <th>PIGR</th>\n",
       "      <th>FOXA1</th>\n",
       "      <th>CXCL17</th>\n",
       "      <th>ALDH3B2</th>\n",
       "      <th>...</th>\n",
       "      <th>LDHB</th>\n",
       "      <th>ELL2</th>\n",
       "      <th>SLC1A4</th>\n",
       "      <th>RAB30</th>\n",
       "      <th>CTAGE6</th>\n",
       "      <th>ENO3</th>\n",
       "      <th>CNKSR1</th>\n",
       "      <th>HERC5</th>\n",
       "      <th>C5orf34</th>\n",
       "      <th>TSGA10</th>\n",
       "    </tr>\n",
       "  </thead>\n",
       "  <tbody>\n",
       "    <tr>\n",
       "      <th>X05BR044</th>\n",
       "      <td>0.556158</td>\n",
       "      <td>0.268880</td>\n",
       "      <td>0.426972</td>\n",
       "      <td>0.471907</td>\n",
       "      <td>0.427291</td>\n",
       "      <td>0.340349</td>\n",
       "      <td>0.418665</td>\n",
       "      <td>0.870931</td>\n",
       "      <td>0.599509</td>\n",
       "      <td>0.523747</td>\n",
       "      <td>...</td>\n",
       "      <td>0.389687</td>\n",
       "      <td>0.599384</td>\n",
       "      <td>0.547150</td>\n",
       "      <td>0.539518</td>\n",
       "      <td>0.552344</td>\n",
       "      <td>0.296882</td>\n",
       "      <td>0.762243</td>\n",
       "      <td>0.398071</td>\n",
       "      <td>0.497599</td>\n",
       "      <td>0.529024</td>\n",
       "    </tr>\n",
       "    <tr>\n",
       "      <th>X06BR006</th>\n",
       "      <td>0.548890</td>\n",
       "      <td>0.370768</td>\n",
       "      <td>0.432470</td>\n",
       "      <td>0.430804</td>\n",
       "      <td>0.478019</td>\n",
       "      <td>0.305251</td>\n",
       "      <td>0.476576</td>\n",
       "      <td>0.738325</td>\n",
       "      <td>0.613836</td>\n",
       "      <td>0.402149</td>\n",
       "      <td>...</td>\n",
       "      <td>0.505430</td>\n",
       "      <td>0.586446</td>\n",
       "      <td>0.457733</td>\n",
       "      <td>0.616628</td>\n",
       "      <td>0.512752</td>\n",
       "      <td>0.322771</td>\n",
       "      <td>0.697101</td>\n",
       "      <td>0.545798</td>\n",
       "      <td>0.540439</td>\n",
       "      <td>0.639007</td>\n",
       "    </tr>\n",
       "  </tbody>\n",
       "</table>\n",
       "<p>2 rows × 5000 columns</p>\n",
       "</div>"
      ],
      "text/plain": [
       "           CEACAM6   TMPRSS4   CEACAM5  SERPINB5   SLC34A2      AGR2  \\\n",
       "X05BR044  0.556158  0.268880  0.426972  0.471907  0.427291  0.340349   \n",
       "X06BR006  0.548890  0.370768  0.432470  0.430804  0.478019  0.305251   \n",
       "\n",
       "              PIGR     FOXA1    CXCL17   ALDH3B2  ...      LDHB      ELL2  \\\n",
       "X05BR044  0.418665  0.870931  0.599509  0.523747  ...  0.389687  0.599384   \n",
       "X06BR006  0.476576  0.738325  0.613836  0.402149  ...  0.505430  0.586446   \n",
       "\n",
       "            SLC1A4     RAB30    CTAGE6      ENO3    CNKSR1     HERC5  \\\n",
       "X05BR044  0.547150  0.539518  0.552344  0.296882  0.762243  0.398071   \n",
       "X06BR006  0.457733  0.616628  0.512752  0.322771  0.697101  0.545798   \n",
       "\n",
       "           C5orf34    TSGA10  \n",
       "X05BR044  0.497599  0.529024  \n",
       "X06BR006  0.540439  0.639007  \n",
       "\n",
       "[2 rows x 5000 columns]"
      ]
     },
     "execution_count": 6,
     "metadata": {},
     "output_type": "execute_result"
    }
   ],
   "source": [
    "# rnaseq_scaled_zeroone_df = transcriptomics_input\n",
    "rnaseq_scaled_zeroone_df = MinMaxScaler().fit_transform(vae_input)\n",
    "rnaseq_scaled_zeroone_df = pd.DataFrame(rnaseq_scaled_zeroone_df,\n",
    "                                        columns=vae_input.columns,\n",
    "                                        index=vae_input.index)\n",
    "rnaseq_scaled_zeroone_df[:2]"
   ]
  },
  {
   "cell_type": "code",
   "execution_count": 7,
   "id": "df1accb2",
   "metadata": {},
   "outputs": [],
   "source": [
    "# Split 10% test set randomly\n",
    "test_set_percent = 0.1\n",
    "rnaseq_test_df = rnaseq_scaled_zeroone_df.sample(frac=test_set_percent)\n",
    "rnaseq_train_df = rnaseq_scaled_zeroone_df.drop(rnaseq_test_df.index)"
   ]
  },
  {
   "cell_type": "code",
   "execution_count": 8,
   "id": "efd5f50c",
   "metadata": {},
   "outputs": [
    {
     "data": {
      "text/html": [
       "<div>\n",
       "<style scoped>\n",
       "    .dataframe tbody tr th:only-of-type {\n",
       "        vertical-align: middle;\n",
       "    }\n",
       "\n",
       "    .dataframe tbody tr th {\n",
       "        vertical-align: top;\n",
       "    }\n",
       "\n",
       "    .dataframe thead th {\n",
       "        text-align: right;\n",
       "    }\n",
       "</style>\n",
       "<table border=\"1\" class=\"dataframe\">\n",
       "  <thead>\n",
       "    <tr style=\"text-align: right;\">\n",
       "      <th></th>\n",
       "      <th>CEACAM6</th>\n",
       "      <th>TMPRSS4</th>\n",
       "      <th>CEACAM5</th>\n",
       "      <th>SERPINB5</th>\n",
       "      <th>SLC34A2</th>\n",
       "      <th>AGR2</th>\n",
       "      <th>PIGR</th>\n",
       "      <th>FOXA1</th>\n",
       "      <th>CXCL17</th>\n",
       "      <th>ALDH3B2</th>\n",
       "      <th>...</th>\n",
       "      <th>LDHB</th>\n",
       "      <th>ELL2</th>\n",
       "      <th>SLC1A4</th>\n",
       "      <th>RAB30</th>\n",
       "      <th>CTAGE6</th>\n",
       "      <th>ENO3</th>\n",
       "      <th>CNKSR1</th>\n",
       "      <th>HERC5</th>\n",
       "      <th>C5orf34</th>\n",
       "      <th>TSGA10</th>\n",
       "    </tr>\n",
       "  </thead>\n",
       "  <tbody>\n",
       "    <tr>\n",
       "      <th>TCGA-C8-A137</th>\n",
       "      <td>0.562584</td>\n",
       "      <td>0.513701</td>\n",
       "      <td>0.426069</td>\n",
       "      <td>0.485788</td>\n",
       "      <td>0.406559</td>\n",
       "      <td>0.681886</td>\n",
       "      <td>0.374993</td>\n",
       "      <td>0.820620</td>\n",
       "      <td>0.392136</td>\n",
       "      <td>0.731271</td>\n",
       "      <td>...</td>\n",
       "      <td>0.306563</td>\n",
       "      <td>0.666978</td>\n",
       "      <td>0.582351</td>\n",
       "      <td>0.601828</td>\n",
       "      <td>0.711015</td>\n",
       "      <td>0.120151</td>\n",
       "      <td>0.725576</td>\n",
       "      <td>0.463594</td>\n",
       "      <td>0.518612</td>\n",
       "      <td>0.455534</td>\n",
       "    </tr>\n",
       "    <tr>\n",
       "      <th>TCGA-CV-7103-11</th>\n",
       "      <td>0.644610</td>\n",
       "      <td>0.708367</td>\n",
       "      <td>0.639319</td>\n",
       "      <td>0.857124</td>\n",
       "      <td>0.385284</td>\n",
       "      <td>0.475166</td>\n",
       "      <td>0.427931</td>\n",
       "      <td>0.630339</td>\n",
       "      <td>0.696188</td>\n",
       "      <td>0.749322</td>\n",
       "      <td>...</td>\n",
       "      <td>0.567682</td>\n",
       "      <td>0.829044</td>\n",
       "      <td>0.611912</td>\n",
       "      <td>0.588050</td>\n",
       "      <td>0.709369</td>\n",
       "      <td>0.657557</td>\n",
       "      <td>0.792540</td>\n",
       "      <td>0.543911</td>\n",
       "      <td>0.426131</td>\n",
       "      <td>0.584247</td>\n",
       "    </tr>\n",
       "  </tbody>\n",
       "</table>\n",
       "<p>2 rows × 5000 columns</p>\n",
       "</div>"
      ],
      "text/plain": [
       "                  CEACAM6   TMPRSS4   CEACAM5  SERPINB5   SLC34A2      AGR2  \\\n",
       "TCGA-C8-A137     0.562584  0.513701  0.426069  0.485788  0.406559  0.681886   \n",
       "TCGA-CV-7103-11  0.644610  0.708367  0.639319  0.857124  0.385284  0.475166   \n",
       "\n",
       "                     PIGR     FOXA1    CXCL17   ALDH3B2  ...      LDHB  \\\n",
       "TCGA-C8-A137     0.374993  0.820620  0.392136  0.731271  ...  0.306563   \n",
       "TCGA-CV-7103-11  0.427931  0.630339  0.696188  0.749322  ...  0.567682   \n",
       "\n",
       "                     ELL2    SLC1A4     RAB30    CTAGE6      ENO3    CNKSR1  \\\n",
       "TCGA-C8-A137     0.666978  0.582351  0.601828  0.711015  0.120151  0.725576   \n",
       "TCGA-CV-7103-11  0.829044  0.611912  0.588050  0.709369  0.657557  0.792540   \n",
       "\n",
       "                    HERC5   C5orf34    TSGA10  \n",
       "TCGA-C8-A137     0.463594  0.518612  0.455534  \n",
       "TCGA-CV-7103-11  0.543911  0.426131  0.584247  \n",
       "\n",
       "[2 rows x 5000 columns]"
      ]
     },
     "execution_count": 8,
     "metadata": {},
     "output_type": "execute_result"
    }
   ],
   "source": [
    "rnaseq_test_df[:2]"
   ]
  },
  {
   "cell_type": "code",
   "execution_count": 9,
   "id": "7e2d473c",
   "metadata": {},
   "outputs": [
    {
     "data": {
      "text/html": [
       "<div>\n",
       "<style scoped>\n",
       "    .dataframe tbody tr th:only-of-type {\n",
       "        vertical-align: middle;\n",
       "    }\n",
       "\n",
       "    .dataframe tbody tr th {\n",
       "        vertical-align: top;\n",
       "    }\n",
       "\n",
       "    .dataframe thead th {\n",
       "        text-align: right;\n",
       "    }\n",
       "</style>\n",
       "<table border=\"1\" class=\"dataframe\">\n",
       "  <thead>\n",
       "    <tr style=\"text-align: right;\">\n",
       "      <th></th>\n",
       "      <th>CEACAM6</th>\n",
       "      <th>TMPRSS4</th>\n",
       "      <th>CEACAM5</th>\n",
       "      <th>SERPINB5</th>\n",
       "      <th>SLC34A2</th>\n",
       "      <th>AGR2</th>\n",
       "      <th>PIGR</th>\n",
       "      <th>FOXA1</th>\n",
       "      <th>CXCL17</th>\n",
       "      <th>ALDH3B2</th>\n",
       "      <th>...</th>\n",
       "      <th>LDHB</th>\n",
       "      <th>ELL2</th>\n",
       "      <th>SLC1A4</th>\n",
       "      <th>RAB30</th>\n",
       "      <th>CTAGE6</th>\n",
       "      <th>ENO3</th>\n",
       "      <th>CNKSR1</th>\n",
       "      <th>HERC5</th>\n",
       "      <th>C5orf34</th>\n",
       "      <th>TSGA10</th>\n",
       "    </tr>\n",
       "  </thead>\n",
       "  <tbody>\n",
       "    <tr>\n",
       "      <th>X05BR044</th>\n",
       "      <td>0.556158</td>\n",
       "      <td>0.268880</td>\n",
       "      <td>0.426972</td>\n",
       "      <td>0.471907</td>\n",
       "      <td>0.427291</td>\n",
       "      <td>0.340349</td>\n",
       "      <td>0.418665</td>\n",
       "      <td>0.870931</td>\n",
       "      <td>0.599509</td>\n",
       "      <td>0.523747</td>\n",
       "      <td>...</td>\n",
       "      <td>0.389687</td>\n",
       "      <td>0.599384</td>\n",
       "      <td>0.547150</td>\n",
       "      <td>0.539518</td>\n",
       "      <td>0.552344</td>\n",
       "      <td>0.296882</td>\n",
       "      <td>0.762243</td>\n",
       "      <td>0.398071</td>\n",
       "      <td>0.497599</td>\n",
       "      <td>0.529024</td>\n",
       "    </tr>\n",
       "    <tr>\n",
       "      <th>X06BR005</th>\n",
       "      <td>0.382051</td>\n",
       "      <td>0.431915</td>\n",
       "      <td>0.291048</td>\n",
       "      <td>0.461353</td>\n",
       "      <td>0.440939</td>\n",
       "      <td>0.330735</td>\n",
       "      <td>0.467459</td>\n",
       "      <td>0.788839</td>\n",
       "      <td>0.502438</td>\n",
       "      <td>0.301906</td>\n",
       "      <td>...</td>\n",
       "      <td>0.436884</td>\n",
       "      <td>0.582706</td>\n",
       "      <td>0.563414</td>\n",
       "      <td>0.640206</td>\n",
       "      <td>0.583985</td>\n",
       "      <td>0.326446</td>\n",
       "      <td>0.764101</td>\n",
       "      <td>0.550662</td>\n",
       "      <td>0.538389</td>\n",
       "      <td>0.600252</td>\n",
       "    </tr>\n",
       "  </tbody>\n",
       "</table>\n",
       "<p>2 rows × 5000 columns</p>\n",
       "</div>"
      ],
      "text/plain": [
       "           CEACAM6   TMPRSS4   CEACAM5  SERPINB5   SLC34A2      AGR2  \\\n",
       "X05BR044  0.556158  0.268880  0.426972  0.471907  0.427291  0.340349   \n",
       "X06BR005  0.382051  0.431915  0.291048  0.461353  0.440939  0.330735   \n",
       "\n",
       "              PIGR     FOXA1    CXCL17   ALDH3B2  ...      LDHB      ELL2  \\\n",
       "X05BR044  0.418665  0.870931  0.599509  0.523747  ...  0.389687  0.599384   \n",
       "X06BR005  0.467459  0.788839  0.502438  0.301906  ...  0.436884  0.582706   \n",
       "\n",
       "            SLC1A4     RAB30    CTAGE6      ENO3    CNKSR1     HERC5  \\\n",
       "X05BR044  0.547150  0.539518  0.552344  0.296882  0.762243  0.398071   \n",
       "X06BR005  0.563414  0.640206  0.583985  0.326446  0.764101  0.550662   \n",
       "\n",
       "           C5orf34    TSGA10  \n",
       "X05BR044  0.497599  0.529024  \n",
       "X06BR005  0.538389  0.600252  \n",
       "\n",
       "[2 rows x 5000 columns]"
      ]
     },
     "execution_count": 9,
     "metadata": {},
     "output_type": "execute_result"
    }
   ],
   "source": [
    "rnaseq_train_df[:2]"
   ]
  },
  {
   "cell_type": "markdown",
   "id": "16c69724",
   "metadata": {},
   "source": [
    "### Define Autoencoder"
   ]
  },
  {
   "cell_type": "code",
   "execution_count": 10,
   "id": "de5e8994",
   "metadata": {},
   "outputs": [],
   "source": [
    "# Function for reparameterization trick to make model differentiable\n",
    "def sampling(args):\n",
    "    # Function with args required for Keras Lambda function\n",
    "    z_mean, z_log_var = args\n",
    "\n",
    "    # Draw epsilon of the same shape from a standard normal distribution\n",
    "    epsilon = K.random_normal(shape=tf.shape(z_mean), mean=0.,\n",
    "                              stddev=epsilon_std, seed=12)\n",
    "    \n",
    "    # The latent vector is non-deterministic and differentiable\n",
    "    # in respect to z_mean and z_log_var\n",
    "    z = z_mean + K.exp(z_log_var / 2) * epsilon\n",
    "    return z\n",
    "\n",
    "\n",
    "class CustomVariationalLayer(Layer):\n",
    "    \"\"\"\n",
    "    Define a custom layer that learns and performs the training\n",
    "    This function is borrowed from:\n",
    "    https://github.com/fchollet/keras/blob/master/examples/variational_autoencoder.py\n",
    "    \"\"\"\n",
    "    def __init__(self, **kwargs):\n",
    "        # https://keras.io/layers/writing-your-own-keras-layers/\n",
    "        self.is_placeholder = True\n",
    "        super(CustomVariationalLayer, self).__init__(**kwargs)\n",
    "\n",
    "    def vae_loss(self, x_input, x_decoded):\n",
    "        reconstruction_loss = original_dim * metrics.binary_crossentropy(x_input, x_decoded)\n",
    "        kl_loss = - 0.5 * K.sum(1 + z_log_var_encoded - K.square(z_mean_encoded) - \n",
    "                                K.exp(z_log_var_encoded), axis=-1)\n",
    "        return K.mean(reconstruction_loss + (K.get_value(beta) * kl_loss))\n",
    "\n",
    "    def call(self, inputs):\n",
    "        x = inputs[0]\n",
    "        x_decoded = inputs[1]\n",
    "        loss = self.vae_loss(x, x_decoded)\n",
    "        self.add_loss(loss, inputs=inputs)\n",
    "        # We won't actually use the output.\n",
    "        return x\n",
    "    \n",
    "class WarmUpCallback(Callback):\n",
    "    def __init__(self, beta, kappa):\n",
    "        self.beta = beta\n",
    "        self.kappa = kappa\n",
    "    # Behavior on each epoch\n",
    "    def on_epoch_end(self, epoch, logs={}):\n",
    "        if K.get_value(self.beta) <= 1:\n",
    "            K.set_value(self.beta, K.get_value(self.beta) + self.kappa)\n",
    "            "
   ]
  },
  {
   "cell_type": "code",
   "execution_count": 11,
   "id": "a05968f6",
   "metadata": {},
   "outputs": [],
   "source": [
    "np.random.seed(123)"
   ]
  },
  {
   "cell_type": "code",
   "execution_count": 12,
   "id": "db5efd4f",
   "metadata": {},
   "outputs": [],
   "source": [
    "# Set hyper parameters\n",
    "original_dim = rnaseq_scaled_zeroone_df.shape[1]\n",
    "latent_dim = 100\n",
    "\n",
    "batch_size = 50\n",
    "epochs = 50\n",
    "learning_rate = 0.0005\n",
    "\n",
    "epsilon_std = 1.0\n",
    "beta = K.variable(0)\n",
    "kappa = 1"
   ]
  },
  {
   "cell_type": "markdown",
   "id": "96386fc5",
   "metadata": {},
   "source": [
    "### Encoder"
   ]
  },
  {
   "cell_type": "code",
   "execution_count": 13,
   "id": "0ae0b435",
   "metadata": {},
   "outputs": [
    {
     "name": "stdout",
     "output_type": "stream",
     "text": [
      "WARNING:tensorflow:From C:\\Users\\swath\\Anaconda3\\envs\\thesis\\lib\\site-packages\\keras\\layers\\normalization\\batch_normalization.py:562: _colocate_with (from tensorflow.python.framework.ops) is deprecated and will be removed in a future version.\n",
      "Instructions for updating:\n",
      "Colocations handled automatically by placer.\n"
     ]
    }
   ],
   "source": [
    "# Input place holder for RNAseq data with specific input size\n",
    "rnaseq_input = Input(shape=(original_dim, ))\n",
    "\n",
    "# Input layer is compressed into a mean and log variance vector of size `latent_dim`\n",
    "# Each layer is initialized with glorot uniform weights and each step (dense connections,\n",
    "# batch norm, and relu activation) are funneled separately\n",
    "# Each vector of length `latent_dim` are connected to the rnaseq input tensor\n",
    "z_mean_dense_linear = Dense(latent_dim, kernel_initializer='glorot_uniform')(rnaseq_input)\n",
    "z_mean_dense_batchnorm = BatchNormalization()(z_mean_dense_linear)\n",
    "z_mean_encoded = Activation('relu')(z_mean_dense_batchnorm)\n",
    "\n",
    "z_log_var_dense_linear = Dense(latent_dim, kernel_initializer='glorot_uniform')(rnaseq_input)\n",
    "z_log_var_dense_batchnorm = BatchNormalization()(z_log_var_dense_linear)\n",
    "z_log_var_encoded = Activation('relu')(z_log_var_dense_batchnorm)\n",
    "\n",
    "# return the encoded and randomly sampled z vector\n",
    "# Takes two keras layers as input to the custom sampling function layer with a `latent_dim` output\n",
    "z = Lambda(sampling, output_shape=(latent_dim, ))([z_mean_encoded, z_log_var_encoded])"
   ]
  },
  {
   "cell_type": "markdown",
   "id": "d6f059d7",
   "metadata": {},
   "source": [
    "### Decoder"
   ]
  },
  {
   "cell_type": "code",
   "execution_count": 14,
   "id": "20d1d4af",
   "metadata": {},
   "outputs": [],
   "source": [
    "# The decoding layer is much simpler with a single layer and sigmoid activation\n",
    "decoder_to_reconstruct = Dense(original_dim, kernel_initializer='glorot_uniform', activation='sigmoid')\n",
    "rnaseq_reconstruct = decoder_to_reconstruct(z)"
   ]
  },
  {
   "cell_type": "markdown",
   "id": "9a076174",
   "metadata": {},
   "source": [
    "### Connect the encoder and decoder to make the VAE"
   ]
  },
  {
   "cell_type": "markdown",
   "id": "4e78ff99",
   "metadata": {},
   "source": [
    "The CustomVariationalLayer() includes the VAE loss function (reconstruction + (beta * KL)), which is what will drive our model to learn an interpretable representation of gene expression space.\n",
    "\n",
    "The VAE is compiled with an Adam optimizer and built-in custom loss function. The loss_weights parameter ensures beta is updated at each epoch end callback"
   ]
  },
  {
   "cell_type": "code",
   "execution_count": 15,
   "id": "d1038d72",
   "metadata": {},
   "outputs": [
    {
     "name": "stdout",
     "output_type": "stream",
     "text": [
      "WARNING:tensorflow:Output {0} missing from loss dictionary. We assume this was done on purpose. The fit and evaluate APIs will not be expecting any data to be passed to custom_variational_layer.\n",
      "Model: \"model\"\n",
      "__________________________________________________________________________________________________\n",
      " Layer (type)                   Output Shape         Param #     Connected to                     \n",
      "==================================================================================================\n",
      " input_1 (InputLayer)           [(None, 5000)]       0           []                               \n",
      "                                                                                                  \n",
      " dense (Dense)                  (None, 100)          500100      ['input_1[0][0]']                \n",
      "                                                                                                  \n",
      " dense_1 (Dense)                (None, 100)          500100      ['input_1[0][0]']                \n",
      "                                                                                                  \n",
      " batch_normalization (BatchNorm  (None, 100)         400         ['dense[0][0]']                  \n",
      " alization)                                                                                       \n",
      "                                                                                                  \n",
      " batch_normalization_1 (BatchNo  (None, 100)         400         ['dense_1[0][0]']                \n",
      " rmalization)                                                                                     \n",
      "                                                                                                  \n",
      " activation (Activation)        (None, 100)          0           ['batch_normalization[0][0]']    \n",
      "                                                                                                  \n",
      " activation_1 (Activation)      (None, 100)          0           ['batch_normalization_1[0][0]']  \n",
      "                                                                                                  \n",
      " lambda (Lambda)                (None, 100)          0           ['activation[0][0]',             \n",
      "                                                                  'activation_1[0][0]']           \n",
      "                                                                                                  \n",
      " dense_2 (Dense)                (None, 5000)         505000      ['lambda[0][0]']                 \n",
      "                                                                                                  \n",
      " custom_variational_layer (Cust  (None, 5000)        0           ['input_1[0][0]',                \n",
      " omVariationalLayer)                                              'dense_2[0][0]']                \n",
      "                                                                                                  \n",
      "==================================================================================================\n",
      "Total params: 1,506,000\n",
      "Trainable params: 1,505,600\n",
      "Non-trainable params: 400\n",
      "__________________________________________________________________________________________________\n"
     ]
    }
   ],
   "source": [
    "vae_layer = CustomVariationalLayer()([rnaseq_input, rnaseq_reconstruct])\n",
    "vae = Model(rnaseq_input, vae_layer)\n",
    "vae.compile(optimizer=optimizers.Adam(learning_rate=learning_rate), loss=None, loss_weights=[beta],\n",
    "            experimental_run_tf_function=False)\n",
    "\n",
    "vae.summary()"
   ]
  },
  {
   "cell_type": "code",
   "execution_count": 16,
   "id": "62b62bf1",
   "metadata": {},
   "outputs": [
    {
     "data": {
      "image/png": "[encoded data removed]",
      "text/plain": [
       "<IPython.core.display.Image object>"
      ]
     },
     "execution_count": 16,
     "metadata": {},
     "output_type": "execute_result"
    }
   ],
   "source": [
    "# Visualize the connections of the custom VAE model\n",
    "output_model_file = get_local_data_path(['figures'], 'onehidden_vae100_architecture_cptac.png')\n",
    "plot_model(vae, to_file=output_model_file)\n",
    "\n",
    "# SVG(model_to_dot(vae).create(prog='dot', format='svg'))"
   ]
  },
  {
   "cell_type": "markdown",
   "id": "1069a266",
   "metadata": {},
   "source": [
    "### Train the model"
   ]
  },
  {
   "cell_type": "markdown",
   "id": "3be3484c",
   "metadata": {},
   "source": [
    "The training data is shuffled after every epoch and 10% of the data is heldout for calculating validation loss."
   ]
  },
  {
   "cell_type": "code",
   "execution_count": 17,
   "id": "57718420",
   "metadata": {
    "scrolled": true
   },
   "outputs": [
    {
     "name": "stdout",
     "output_type": "stream",
     "text": [
      "CPU times: total: 4min 20s\n",
      "Wall time: 4min 34s\n"
     ]
    }
   ],
   "source": [
    "%%time\n",
    "hist = vae.fit(np.array(rnaseq_train_df),\n",
    "               shuffle=True,\n",
    "               epochs=epochs,\n",
    "               verbose=0,\n",
    "               batch_size=batch_size,\n",
    "               validation_data=(np.array(rnaseq_test_df), None),\n",
    "               callbacks=[WarmUpCallback(beta, kappa)])"
   ]
  },
  {
   "cell_type": "code",
   "execution_count": 18,
   "id": "9661a07e",
   "metadata": {},
   "outputs": [
    {
     "data": {
      "image/png": "[encoded data removed]",
      "text/plain": [
       "<Figure size 640x480 with 1 Axes>"
      ]
     },
     "metadata": {},
     "output_type": "display_data"
    }
   ],
   "source": [
    "# Visualize training performance\n",
    "history_df = pd.DataFrame(hist.history)\n",
    "hist_plot_file = get_local_data_path(['figures'], 'onehidden_vae100_training_cptac.pdf')\n",
    "ax = history_df.plot()\n",
    "ax.set_xlabel('Epochs')\n",
    "ax.set_ylabel('VAE Loss')\n",
    "fig = ax.get_figure()\n",
    "fig.savefig(hist_plot_file)"
   ]
  },
  {
   "cell_type": "markdown",
   "id": "59cc9ad9",
   "metadata": {},
   "source": [
    "### Compile and output trained models\n",
    "\n",
    "We are interested in:\n",
    "\n",
    "- The model to encode/compress the input gene expression data\n",
    "    - Can be possibly used to compress other tumors\n",
    "- The model to decode/decompress the latent space back into gene expression space\n",
    "    - This is our generative model\n",
    "- The latent space compression of all pan cancer TCGA samples\n",
    "    - Non-linear reduced dimension representation of tumors can be used as features for various tasks\n",
    "    - Supervised learning tasks predicting specific gene inactivation events\n",
    "    - Interpolating across this space to observe how gene expression changes between two cancer states\n",
    "- The weights used to compress each latent node\n",
    "    - Potentially indicate learned biology differentially activating tumors"
   ]
  },
  {
   "cell_type": "markdown",
   "id": "4952129e",
   "metadata": {},
   "source": [
    "### Encoder model"
   ]
  },
  {
   "cell_type": "code",
   "execution_count": 19,
   "id": "77364ba5",
   "metadata": {},
   "outputs": [],
   "source": [
    "# Model to compress input\n",
    "encoder = Model(rnaseq_input, z_mean_encoded)"
   ]
  },
  {
   "cell_type": "code",
   "execution_count": 20,
   "id": "7fb9302c",
   "metadata": {},
   "outputs": [],
   "source": [
    "# Encode rnaseq into the hidden/latent representation - and save output\n",
    "encoded_rnaseq_df = encoder.predict_on_batch(rnaseq_scaled_zeroone_df)\n",
    "encoded_rnaseq_df = pd.DataFrame(encoded_rnaseq_df, index=rnaseq_scaled_zeroone_df.index)\n",
    "\n",
    "encoded_rnaseq_df.columns.name = 'sample_id'\n",
    "encoded_rnaseq_df.columns = encoded_rnaseq_df.columns + 1\n",
    "encoded_rnaseq_df.rename(columns = lambda x: str(x), inplace=True)\n",
    "encoded_file = get_local_data_path(['processed_data'], 'encoded_rnaseq_vae100_cptac.parquet')\n",
    "encoded_rnaseq_df.to_parquet(encoded_file)"
   ]
  },
  {
   "cell_type": "markdown",
   "id": "cf1c6be9",
   "metadata": {},
   "source": [
    "### Decoder (generative) model"
   ]
  },
  {
   "cell_type": "code",
   "execution_count": 21,
   "id": "7ad7d3f9",
   "metadata": {},
   "outputs": [],
   "source": [
    "# build a generator that can sample from the learned distribution\n",
    "decoder_input = Input(shape=(latent_dim, ))  # can generate from any sampled z vector\n",
    "_x_decoded_mean = decoder_to_reconstruct(decoder_input)\n",
    "decoder = Model(decoder_input, _x_decoded_mean)"
   ]
  },
  {
   "cell_type": "markdown",
   "id": "768733f6",
   "metadata": {},
   "source": [
    "### Save the encoder/decoder models for future investigation"
   ]
  },
  {
   "cell_type": "code",
   "execution_count": 22,
   "id": "c8a72c95",
   "metadata": {},
   "outputs": [],
   "source": [
    "encoder_model_file = get_local_data_path(['models'], 'encoder_onehidden_vae100_cptac.hdf5')\n",
    "decoder_model_file = get_local_data_path(['models'], 'decoder_onehidden_vae100_cptac.hdf5')\n",
    "\n",
    "encoder.save(encoder_model_file)\n",
    "decoder.save(decoder_model_file)"
   ]
  },
  {
   "cell_type": "code",
   "execution_count": 23,
   "id": "d88787a4",
   "metadata": {},
   "outputs": [
    {
     "name": "stdout",
     "output_type": "stream",
     "text": [
      "sample_id\n",
      "61    48768.578125\n",
      "91    45696.636719\n",
      "11    43028.734375\n",
      "9     38360.816406\n",
      "22    37850.019531\n",
      "53    36882.171875\n",
      "88    36549.378906\n",
      "78    36516.714844\n",
      "76    34763.718750\n",
      "15    34491.390625\n",
      "dtype: float32\n"
     ]
    },
    {
     "data": {
      "text/plain": [
       "sample_id\n",
       "43     17235.945312\n",
       "100    16965.794922\n",
       "82     16719.548828\n",
       "99     16629.867188\n",
       "74     16603.781250\n",
       "33     16412.414062\n",
       "29     16323.652344\n",
       "2      16023.777344\n",
       "66     15487.735352\n",
       "71     15151.284180\n",
       "dtype: float32"
      ]
     },
     "execution_count": 23,
     "metadata": {},
     "output_type": "execute_result"
    }
   ],
   "source": [
    "# What are the most and least activated nodes\n",
    "sum_node_activity = encoded_rnaseq_df.sum(axis=0).sort_values(ascending=False)\n",
    "\n",
    "# Top 10 most active nodes\n",
    "print(sum_node_activity.head(10))\n",
    "\n",
    "# Bottom 10 least active nodes\n",
    "sum_node_activity.tail(10)"
   ]
  },
  {
   "cell_type": "code",
   "execution_count": 24,
   "id": "18e02816",
   "metadata": {},
   "outputs": [
    {
     "data": {
      "image/png": "[encoded data removed]",
      "text/plain": [
       "<Figure size 640x480 with 1 Axes>"
      ]
     },
     "metadata": {},
     "output_type": "display_data"
    }
   ],
   "source": [
    "# Histogram of node activity for all 100 latent features\n",
    "sum_node_activity.hist()\n",
    "plt.xlabel('Activation Sum')\n",
    "plt.ylabel('Count');"
   ]
  },
  {
   "cell_type": "code",
   "execution_count": 25,
   "id": "1dc4c229",
   "metadata": {},
   "outputs": [
    {
     "data": {
      "image/png": "[encoded data removed]",
      "text/plain": [
       "<Figure size 600x600 with 1 Axes>"
      ]
     },
     "metadata": {},
     "output_type": "display_data"
    }
   ],
   "source": [
    "# Example of node activation distribution for the first two latent features\n",
    "plt.figure(figsize=(6, 6))\n",
    "plt.scatter(encoded_rnaseq_df.iloc[:, 1], encoded_rnaseq_df.iloc[:, 2])\n",
    "plt.xlabel('Latent Feature 1')\n",
    "plt.xlabel('Latent Feature 2');"
   ]
  },
  {
   "cell_type": "markdown",
   "id": "1ae588fa",
   "metadata": {},
   "source": [
    "#### Observe reconstruction fidelity"
   ]
  },
  {
   "cell_type": "code",
   "execution_count": 26,
   "id": "d5d508b1",
   "metadata": {},
   "outputs": [
    {
     "data": {
      "text/html": [
       "<div>\n",
       "<style scoped>\n",
       "    .dataframe tbody tr th:only-of-type {\n",
       "        vertical-align: middle;\n",
       "    }\n",
       "\n",
       "    .dataframe tbody tr th {\n",
       "        vertical-align: top;\n",
       "    }\n",
       "\n",
       "    .dataframe thead th {\n",
       "        text-align: right;\n",
       "    }\n",
       "</style>\n",
       "<table border=\"1\" class=\"dataframe\">\n",
       "  <thead>\n",
       "    <tr style=\"text-align: right;\">\n",
       "      <th></th>\n",
       "      <th>CEACAM6</th>\n",
       "      <th>TMPRSS4</th>\n",
       "      <th>CEACAM5</th>\n",
       "      <th>SERPINB5</th>\n",
       "      <th>SLC34A2</th>\n",
       "      <th>AGR2</th>\n",
       "      <th>PIGR</th>\n",
       "      <th>FOXA1</th>\n",
       "      <th>CXCL17</th>\n",
       "      <th>ALDH3B2</th>\n",
       "      <th>...</th>\n",
       "      <th>LDHB</th>\n",
       "      <th>ELL2</th>\n",
       "      <th>SLC1A4</th>\n",
       "      <th>RAB30</th>\n",
       "      <th>CTAGE6</th>\n",
       "      <th>ENO3</th>\n",
       "      <th>CNKSR1</th>\n",
       "      <th>HERC5</th>\n",
       "      <th>C5orf34</th>\n",
       "      <th>TSGA10</th>\n",
       "    </tr>\n",
       "  </thead>\n",
       "  <tbody>\n",
       "    <tr>\n",
       "      <th>X05BR044</th>\n",
       "      <td>0.541648</td>\n",
       "      <td>0.338741</td>\n",
       "      <td>0.424652</td>\n",
       "      <td>0.432802</td>\n",
       "      <td>0.422588</td>\n",
       "      <td>0.38848</td>\n",
       "      <td>0.465499</td>\n",
       "      <td>0.809658</td>\n",
       "      <td>0.598161</td>\n",
       "      <td>0.407149</td>\n",
       "      <td>...</td>\n",
       "      <td>0.447580</td>\n",
       "      <td>0.607670</td>\n",
       "      <td>0.500248</td>\n",
       "      <td>0.616226</td>\n",
       "      <td>0.603669</td>\n",
       "      <td>0.340248</td>\n",
       "      <td>0.774755</td>\n",
       "      <td>0.506723</td>\n",
       "      <td>0.585941</td>\n",
       "      <td>0.573887</td>\n",
       "    </tr>\n",
       "    <tr>\n",
       "      <th>X06BR006</th>\n",
       "      <td>0.516027</td>\n",
       "      <td>0.313149</td>\n",
       "      <td>0.374965</td>\n",
       "      <td>0.445494</td>\n",
       "      <td>0.439513</td>\n",
       "      <td>0.38741</td>\n",
       "      <td>0.470036</td>\n",
       "      <td>0.729691</td>\n",
       "      <td>0.577897</td>\n",
       "      <td>0.414616</td>\n",
       "      <td>...</td>\n",
       "      <td>0.493084</td>\n",
       "      <td>0.605685</td>\n",
       "      <td>0.498491</td>\n",
       "      <td>0.650401</td>\n",
       "      <td>0.574217</td>\n",
       "      <td>0.313192</td>\n",
       "      <td>0.748917</td>\n",
       "      <td>0.600654</td>\n",
       "      <td>0.574357</td>\n",
       "      <td>0.578255</td>\n",
       "    </tr>\n",
       "  </tbody>\n",
       "</table>\n",
       "<p>2 rows × 5000 columns</p>\n",
       "</div>"
      ],
      "text/plain": [
       "           CEACAM6   TMPRSS4   CEACAM5  SERPINB5   SLC34A2     AGR2      PIGR  \\\n",
       "X05BR044  0.541648  0.338741  0.424652  0.432802  0.422588  0.38848  0.465499   \n",
       "X06BR006  0.516027  0.313149  0.374965  0.445494  0.439513  0.38741  0.470036   \n",
       "\n",
       "             FOXA1    CXCL17   ALDH3B2  ...      LDHB      ELL2    SLC1A4  \\\n",
       "X05BR044  0.809658  0.598161  0.407149  ...  0.447580  0.607670  0.500248   \n",
       "X06BR006  0.729691  0.577897  0.414616  ...  0.493084  0.605685  0.498491   \n",
       "\n",
       "             RAB30    CTAGE6      ENO3    CNKSR1     HERC5   C5orf34    TSGA10  \n",
       "X05BR044  0.616226  0.603669  0.340248  0.774755  0.506723  0.585941  0.573887  \n",
       "X06BR006  0.650401  0.574217  0.313192  0.748917  0.600654  0.574357  0.578255  \n",
       "\n",
       "[2 rows x 5000 columns]"
      ]
     },
     "execution_count": 26,
     "metadata": {},
     "output_type": "execute_result"
    }
   ],
   "source": [
    "# How well does the model reconstruct the input RNAseq data\n",
    "input_rnaseq_reconstruct = decoder.predict(np.array(encoded_rnaseq_df))\n",
    "input_rnaseq_reconstruct = pd.DataFrame(input_rnaseq_reconstruct, \n",
    "                                        index=rnaseq_scaled_zeroone_df.index,\n",
    "                                        columns=rnaseq_scaled_zeroone_df.columns)\n",
    "input_rnaseq_reconstruct.head(2)"
   ]
  },
  {
   "cell_type": "code",
   "execution_count": 27,
   "id": "00453034",
   "metadata": {},
   "outputs": [
    {
     "data": {
      "text/html": [
       "<div>\n",
       "<style scoped>\n",
       "    .dataframe tbody tr th:only-of-type {\n",
       "        vertical-align: middle;\n",
       "    }\n",
       "\n",
       "    .dataframe tbody tr th {\n",
       "        vertical-align: top;\n",
       "    }\n",
       "\n",
       "    .dataframe thead th {\n",
       "        text-align: right;\n",
       "    }\n",
       "</style>\n",
       "<table border=\"1\" class=\"dataframe\">\n",
       "  <thead>\n",
       "    <tr style=\"text-align: right;\">\n",
       "      <th></th>\n",
       "      <th>gene mean</th>\n",
       "      <th>gene abs(sum)</th>\n",
       "    </tr>\n",
       "  </thead>\n",
       "  <tbody>\n",
       "    <tr>\n",
       "      <th>RPS28</th>\n",
       "      <td>0.007153</td>\n",
       "      <td>0.154811</td>\n",
       "    </tr>\n",
       "    <tr>\n",
       "      <th>SLC44A5</th>\n",
       "      <td>-0.053192</td>\n",
       "      <td>0.137915</td>\n",
       "    </tr>\n",
       "    <tr>\n",
       "      <th>RPL9</th>\n",
       "      <td>-0.009063</td>\n",
       "      <td>0.134575</td>\n",
       "    </tr>\n",
       "    <tr>\n",
       "      <th>NLRP2</th>\n",
       "      <td>0.005348</td>\n",
       "      <td>0.115465</td>\n",
       "    </tr>\n",
       "    <tr>\n",
       "      <th>ERAP2</th>\n",
       "      <td>-0.003930</td>\n",
       "      <td>0.114051</td>\n",
       "    </tr>\n",
       "  </tbody>\n",
       "</table>\n",
       "</div>"
      ],
      "text/plain": [
       "         gene mean  gene abs(sum)\n",
       "RPS28     0.007153       0.154811\n",
       "SLC44A5  -0.053192       0.137915\n",
       "RPL9     -0.009063       0.134575\n",
       "NLRP2     0.005348       0.115465\n",
       "ERAP2    -0.003930       0.114051"
      ]
     },
     "execution_count": 27,
     "metadata": {},
     "output_type": "execute_result"
    }
   ],
   "source": [
    "reconstruction_fidelity = rnaseq_scaled_zeroone_df - input_rnaseq_reconstruct\n",
    "\n",
    "gene_mean = reconstruction_fidelity.mean(axis=0)\n",
    "gene_abssum = reconstruction_fidelity.abs().sum(axis=0).divide(rnaseq_scaled_zeroone_df.shape[0])\n",
    "gene_summary = pd.DataFrame([gene_mean, gene_abssum], index=['gene mean', 'gene abs(sum)']).T\n",
    "gene_summary.sort_values(by='gene abs(sum)', ascending=False).head()"
   ]
  },
  {
   "cell_type": "code",
   "execution_count": 28,
   "id": "f946948c",
   "metadata": {},
   "outputs": [
    {
     "data": {
      "image/png": "[encoded data removed]",
      "text/plain": [
       "<Figure size 600x600 with 3 Axes>"
      ]
     },
     "metadata": {},
     "output_type": "display_data"
    }
   ],
   "source": [
    "# Mean of gene reconstruction vs. absolute reconstructed difference per sample\n",
    "g = sns.jointplot(x='gene mean', y='gene abs(sum)', data=gene_summary);"
   ]
  }
 ],
 "metadata": {
  "kernelspec": {
   "display_name": "Python 3 (ipykernel)",
   "language": "python",
   "name": "python3"
  },
  "language_info": {
   "codemirror_mode": {
    "name": "ipython",
    "version": 3
   },
   "file_extension": ".py",
   "mimetype": "text/x-python",
   "name": "python",
   "nbconvert_exporter": "python",
   "pygments_lexer": "ipython3",
   "version": "3.8.16"
  }
 },
 "nbformat": 4,
 "nbformat_minor": 5
}
